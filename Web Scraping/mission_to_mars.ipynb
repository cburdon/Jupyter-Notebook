{
 "cells": [
  {
   "cell_type": "code",
   "execution_count": 1,
   "metadata": {},
   "outputs": [],
   "source": [
    "#import dependencies\n",
    "from bs4 import BeautifulSoup as bs\n",
    "import pandas as pd\n",
    "from splinter import Browser\n",
    "import re"
   ]
  },
  {
   "cell_type": "code",
   "execution_count": 13,
   "metadata": {},
   "outputs": [],
   "source": [
    "#Create path for chromedriver, execute splinter Browser function.\n",
    "executable_path = {'executable_path': 'chromedriver.exe'}\n",
    "browser = Browser('chrome', **executable_path, headless=False)"
   ]
  },
  {
   "cell_type": "code",
   "execution_count": 6,
   "metadata": {},
   "outputs": [],
   "source": [
    "#Declare url variable for Mars news, visit with Browser function\n",
    "url = \"https://mars.nasa.gov/news/?page=0&per_page=40&order=publish_date+desc%2Ccreated_at+desc&search=&category=19%2C165%2C184%2C204&blank_scope=Latest\"\n",
    "browser.visit(url)\n"
   ]
  },
  {
   "cell_type": "code",
   "execution_count": 9,
   "metadata": {},
   "outputs": [
    {
     "data": {
      "text/plain": [
       "'NASA\\'s MAVEN Spacecraft Finds That \"Stolen\" Electrons Enable Unusual Aurora on Mars'"
      ]
     },
     "execution_count": 9,
     "metadata": {},
     "output_type": "execute_result"
    }
   ],
   "source": [
    "#Find latest mars news headline and teaser\n",
    "html = browser.html\n",
    "soup = bs(html, 'html.parser')\n",
    "news_title = soup.find(\"div\", class_=\"content_title\").find(\"a\").text\n",
    "news_p = soup.find(\"div\", class_= \"article_teaser_body\").text\n",
    "news_title"
   ]
  },
  {
   "cell_type": "code",
   "execution_count": null,
   "metadata": {},
   "outputs": [],
   "source": [
    "#Find latest image\n",
    "url = \"https://www.jpl.nasa.gov/spaceimages/?search=&category=Mars\"\n",
    "browser.visit(url)\n",
    "browser.click_link_by_id('full_image')\n",
    "html = browser.html\n",
    "soup = bs(html, 'html.parser')\n",
    "raw_image = soup.find(\"img\", class_=\"fancybox-image\")['src']\n",
    "featured_image_url = \"https://www.jpl.nasa.gov/\" + raw_image\n",
    "featured_image_url"
   ]
  },
  {
   "cell_type": "code",
   "execution_count": null,
   "metadata": {},
   "outputs": [],
   "source": [
    "#Find weather tweet that starts with \"SOL\"\n",
    "url = \"https://twitter.com/marswxreport?lang=en\" \n",
    "browser.visit(url)\n",
    "html= browser.html\n",
    "soup = bs(html, \"html.parser\")\n",
    "tweet_list = soup.find_all(\"li\", class_=\"stream-item\")\n",
    "for tweet in tweet_list:\n",
    "   mars_weather = tweet.find(\"div\").find(\"p\").text\n",
    "   if re.match(\"SOL \",mars_weather):\n",
    "       break\n",
    "   else:\n",
    "       pass"
   ]
  },
  {
   "cell_type": "code",
   "execution_count": null,
   "metadata": {},
   "outputs": [],
   "source": [
    "#Pull mars facts to pandas table then export html version\n",
    "url = \"https://space-facts.com/mars/\"\n",
    "browser.visit(url)\n",
    "html = browser.html\n",
    "soup = bs(html, \"html.parser\")\n",
    "\n",
    "tables = pd.read_html(\"https://space-facts.com/mars/\")\n",
    "\n",
    "mars_table = tables[0]\n",
    "html_table = mars_table.to_html()\n"
   ]
  },
  {
   "cell_type": "code",
   "execution_count": 14,
   "metadata": {},
   "outputs": [
    {
     "data": {
      "text/plain": [
       "[{'img_url': 'http://astropedia.astrogeology.usgs.gov/download/Mars/Viking/valles_marineris_enhanced.tif/full.jpg',\n",
       "  'title': 'Valles Marineris Hemisphere'},\n",
       " {'img_url': 'http://astropedia.astrogeology.usgs.gov/download/Mars/Viking/cerberus_enhanced.tif/full.jpg',\n",
       "  'title': 'Cerberus Hemisphere'},\n",
       " {'img_url': 'http://astropedia.astrogeology.usgs.gov/download/Mars/Viking/schiaparelli_enhanced.tif/full.jpg',\n",
       "  'title': 'Schiaparelli Hemisphere'},\n",
       " {'img_url': 'http://astropedia.astrogeology.usgs.gov/download/Mars/Viking/syrtis_major_enhanced.tif/full.jpg',\n",
       "  'title': 'Syrtis Major Hemisphere'}]"
      ]
     },
     "execution_count": 14,
     "metadata": {},
     "output_type": "execute_result"
    }
   ],
   "source": [
    "#pull hemisphere images\n",
    "url = \"https://astrogeology.usgs.gov/search/results?q=hemisphere+enhanced&k1=target&v1=Mars\"\n",
    "hemisphere_image_urls = [\n",
    "    {\"title\": \"Valles Marineris Hemisphere\", \"img_url\": \"\"},\n",
    "    {\"title\": \"Cerberus Hemisphere\", \"img_url\": \"\"},\n",
    "    {\"title\": \"Schiaparelli Hemisphere\", \"img_url\": \"\"},\n",
    "    {\"title\": \"Syrtis Major Hemisphere\", \"img_url\": \"\"},\n",
    "]\n",
    "for i in range(len(hemisphere_image_urls)):\n",
    "    browser.visit(url)\n",
    "    name = hemisphere_image_urls[i][\"title\"]\n",
    "    browser.click_link_by_partial_text(name)\n",
    "    html = browser.html\n",
    "    soup = bs(html,\"html.parser\")\n",
    "    img = soup.find_all('li')[-4]\n",
    "    hemisphere_image_urls[i][\"img_url\"] = img.find('a')['href']\n",
    "hemisphere_image_urls\n"
   ]
  },
  {
   "cell_type": "code",
   "execution_count": null,
   "metadata": {},
   "outputs": [],
   "source": []
  }
 ],
 "metadata": {
  "kernelspec": {
   "display_name": "Python [conda env:PythonData]",
   "language": "python",
   "name": "conda-env-PythonData-py"
  },
  "language_info": {
   "codemirror_mode": {
    "name": "ipython",
    "version": 3
   },
   "file_extension": ".py",
   "mimetype": "text/x-python",
   "name": "python",
   "nbconvert_exporter": "python",
   "pygments_lexer": "ipython3",
   "version": "3.6.4"
  }
 },
 "nbformat": 4,
 "nbformat_minor": 2
}
