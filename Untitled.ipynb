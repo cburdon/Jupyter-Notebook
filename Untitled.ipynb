{
 "cells": [
  {
   "cell_type": "code",
   "execution_count": 1,
   "metadata": {},
   "outputs": [],
   "source": [
    "import requests\n",
    "import json"
   ]
  },
  {
   "cell_type": "code",
   "execution_count": 2,
   "metadata": {},
   "outputs": [],
   "source": [
    "from pprint import pprint"
   ]
  },
  {
   "cell_type": "code",
   "execution_count": 3,
   "metadata": {},
   "outputs": [],
   "source": [
    "url = \"http://www.omdbapi.com/?t=\"\n",
    "api_key = \"&apikey=trilogy\""
   ]
  },
  {
   "cell_type": "code",
   "execution_count": 4,
   "metadata": {},
   "outputs": [
    {
     "name": "stdout",
     "output_type": "stream",
     "text": [
      "http://www.omdbapi.com/?t=Deadpool&apikey=trilogy\n"
     ]
    }
   ],
   "source": [
    "response = requests.get(url + \"Deadpool\" + api_key)\n",
    "print(response.url)"
   ]
  },
  {
   "cell_type": "code",
   "execution_count": 5,
   "metadata": {},
   "outputs": [
    {
     "name": "stdout",
     "output_type": "stream",
     "text": [
      "{'Actors': 'Ryan Reynolds, Karan Soni, Ed Skrein, Michael Benyaer',\n",
      " 'Awards': 'Nominated for 2 Golden Globes. Another 27 wins & 73 nominations.',\n",
      " 'BoxOffice': '$328,674,489',\n",
      " 'Country': 'USA',\n",
      " 'DVD': '10 May 2016',\n",
      " 'Director': 'Tim Miller',\n",
      " 'Genre': 'Action, Adventure, Comedy',\n",
      " 'Language': 'English',\n",
      " 'Metascore': '65',\n",
      " 'Plot': 'A fast-talking mercenary with a morbid sense of humor is subjected '\n",
      "         'to a rogue experiment that leaves him with accelerated healing '\n",
      "         'powers and a quest for revenge.',\n",
      " 'Poster': 'https://ia.media-imdb.com/images/M/MV5BYzE5MjY1ZDgtMTkyNC00MTMyLThhMjAtZGI5OTE1NzFlZGJjXkEyXkFqcGdeQXVyNjU0OTQ0OTY@._V1_SX300.jpg',\n",
      " 'Production': '20th Century Fox',\n",
      " 'Rated': 'R',\n",
      " 'Ratings': [{'Source': 'Internet Movie Database', 'Value': '8.0/10'},\n",
      "             {'Source': 'Rotten Tomatoes', 'Value': '83%'},\n",
      "             {'Source': 'Metacritic', 'Value': '65/100'}],\n",
      " 'Released': '12 Feb 2016',\n",
      " 'Response': 'True',\n",
      " 'Runtime': '108 min',\n",
      " 'Title': 'Deadpool',\n",
      " 'Type': 'movie',\n",
      " 'Website': 'http://www.foxmovies.com/deadpool',\n",
      " 'Writer': 'Rhett Reese, Paul Wernick',\n",
      " 'Year': '2016',\n",
      " 'imdbID': 'tt1431045',\n",
      " 'imdbRating': '8.0',\n",
      " 'imdbVotes': '708,640'}\n"
     ]
    }
   ],
   "source": [
    "data = response.json()\n",
    "pprint(data)"
   ]
  },
  {
   "cell_type": "code",
   "execution_count": null,
   "metadata": {},
   "outputs": [],
   "source": [
    "director = data[\"Director\"]"
   ]
  }
 ],
 "metadata": {
  "kernelspec": {
   "display_name": "Python [conda env:PythonData]",
   "language": "python",
   "name": "conda-env-PythonData-py"
  },
  "language_info": {
   "codemirror_mode": {
    "name": "ipython",
    "version": 3
   },
   "file_extension": ".py",
   "mimetype": "text/x-python",
   "name": "python",
   "nbconvert_exporter": "python",
   "pygments_lexer": "ipython3",
   "version": "3.6.4"
  }
 },
 "nbformat": 4,
 "nbformat_minor": 2
}
